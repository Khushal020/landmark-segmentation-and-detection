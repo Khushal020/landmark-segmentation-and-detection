{
  "nbformat": 4,
  "nbformat_minor": 0,
  "metadata": {
    "colab": {
      "provenance": []
    },
    "kernelspec": {
      "name": "python3",
      "display_name": "Python 3"
    }
  },
  "cells": [
    {
      "cell_type": "code",
      "metadata": {
        "id": "ehVQXGdExb-0",
        "colab": {
          "base_uri": "https://localhost:8080/",
          "height": 558
        },
        "outputId": "7be28358-7d18-433b-b9fa-395b298b3dda"
      },
      "source": [
        "from keras.models import Sequential\n",
        "from keras.layers import Conv2D, MaxPooling2D\n",
        "from keras.layers import Activation, Dropout, Flatten, Dense, TimeDistributed, LSTM, InputLayer\n",
        "\n",
        "model = Sequential()\n",
        "model.add(InputLayer(input_shape=(15, 300, 300, 1)))\n",
        "model.add(TimeDistributed(Conv2D(32, (3, 3), activation = 'relu')))\n",
        "model.add(TimeDistributed(MaxPooling2D(pool_size=(2, 2))))\n",
        "\n",
        "model.add(TimeDistributed(Conv2D(32, (3, 3), activation = 'relu')))\n",
        "model.add(TimeDistributed(MaxPooling2D(pool_size=(2, 2))))\n",
        "\n",
        "model.add(TimeDistributed(Conv2D(64, (3, 3), activation = 'relu')))\n",
        "model.add(TimeDistributed(MaxPooling2D(pool_size=(2, 2))))\n",
        "\n",
        "model.add(TimeDistributed(Flatten()))  # this converts our 3D feature maps to 1D feature vectors\n",
        "model.add(LSTM(256, return_sequences = False))\n",
        "model.add(Dense(61, activation = 'relu'))\n",
        "model.add(Dense(15, activation = 'softmax'))\n",
        "\n",
        "#model.build(input_shape=(15, 300, 300, 1))\n",
        "\n",
        "model.summary()"
      ],
      "execution_count": null,
      "outputs": [
        {
          "output_type": "stream",
          "text": [
            "WARNING:tensorflow:From /usr/local/lib/python3.6/dist-packages/keras/backend/tensorflow_backend.py:4267: The name tf.nn.max_pool is deprecated. Please use tf.nn.max_pool2d instead.\n",
            "\n",
            "Model: \"sequential_8\"\n",
            "_________________________________________________________________\n",
            "Layer (type)                 Output Shape              Param #   \n",
            "=================================================================\n",
            "time_distributed_43 (TimeDis (None, 15, 298, 298, 32)  320       \n",
            "_________________________________________________________________\n",
            "time_distributed_44 (TimeDis (None, 15, 149, 149, 32)  0         \n",
            "_________________________________________________________________\n",
            "time_distributed_45 (TimeDis (None, 15, 147, 147, 32)  9248      \n",
            "_________________________________________________________________\n",
            "time_distributed_46 (TimeDis (None, 15, 73, 73, 32)    0         \n",
            "_________________________________________________________________\n",
            "time_distributed_47 (TimeDis (None, 15, 71, 71, 64)    18496     \n",
            "_________________________________________________________________\n",
            "time_distributed_48 (TimeDis (None, 15, 35, 35, 64)    0         \n",
            "_________________________________________________________________\n",
            "time_distributed_49 (TimeDis (None, 15, 78400)         0         \n",
            "_________________________________________________________________\n",
            "lstm_5 (LSTM)                (None, 256)               80544768  \n",
            "_________________________________________________________________\n",
            "dense_7 (Dense)              (None, 61)                15677     \n",
            "_________________________________________________________________\n",
            "dense_8 (Dense)              (None, 15)                930       \n",
            "=================================================================\n",
            "Total params: 80,589,439\n",
            "Trainable params: 80,589,439\n",
            "Non-trainable params: 0\n",
            "_________________________________________________________________\n"
          ],
          "name": "stdout"
        }
      ]
    },
    {
      "cell_type": "code",
      "metadata": {
        "id": "BkJts6cC5FOj"
      },
      "source": [],
      "execution_count": null,
      "outputs": []
    }
  ]
}